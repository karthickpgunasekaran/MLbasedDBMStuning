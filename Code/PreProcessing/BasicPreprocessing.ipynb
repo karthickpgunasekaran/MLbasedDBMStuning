{
 "cells": [
  {
   "cell_type": "code",
   "execution_count": null,
   "metadata": {},
   "outputs": [],
   "source": [
    "import pandas as pd\n",
    "df_off=pd.read_csv('./Data/offline_workload.csv')\n",
    "df_B=pd.read_csv('./Data/online_workload_B.CSV')\n",
    "df_test=pd.read_csv('./Data/online_workload_C.CSV')"
   ]
  },
  {
   "cell_type": "code",
   "execution_count": null,
   "metadata": {},
   "outputs": [],
   "source": [
    "#Concatenated Dataframe containing all workloads\n",
    "df=pd.concat([df_off,df_B])"
   ]
  },
  {
   "cell_type": "code",
   "execution_count": null,
   "metadata": {},
   "outputs": [],
   "source": [
    "len(df['workload id'].unique())"
   ]
  },
  {
   "cell_type": "code",
   "execution_count": null,
   "metadata": {},
   "outputs": [],
   "source": [
    "#Finding out columns with only one constant value across all metrics\n",
    "drop=[]\n",
    "for i in df.columns:\n",
    "    if len(df[i].unique())==1:\n",
    "        drop.append(i)\n",
    "    "
   ]
  },
  {
   "cell_type": "code",
   "execution_count": null,
   "metadata": {},
   "outputs": [],
   "source": [
    "#Dropping the above columns in all workloads\n",
    "for i in drop:\n",
    "    df_off.drop(i,axis=1,inplace=True)\n",
    "    df_B.drop(i,axis=1,inplace=True)\n",
    "    #df_C.drop(i,axis=1,inplace=True)\n",
    "    "
   ]
  },
  {
   "cell_type": "code",
   "execution_count": null,
   "metadata": {},
   "outputs": [],
   "source": [
    "#Scaling all the values in range 0-1 except knobs and workload Id\n",
    "knobs=list(df.columns[0:13])\n",
    "for i in df_off.columns:\n",
    "    if i not in knobs:\n",
    "        if df_off[i].sum()!=0:\n",
    "            df_off[i]=df_off[i]/df_off[i].sum()\n",
    "        else:\n",
    "            df_off[i]=0\n",
    "        if df_B[i].sum()!=0:\n",
    "            df_B[i]=df_B[i]/df_B[i].sum()\n",
    "        else:\n",
    "            df_B[i]=0\n",
    "        if df_C[i].sum()!=0:\n",
    "            df_C[i]=df_C[i]/df_C[i].sum()\n",
    "        else:\n",
    "            df_C[i]=0\n"
   ]
  },
  {
   "cell_type": "code",
   "execution_count": null,
   "metadata": {},
   "outputs": [],
   "source": [
    "#Changing knob k7 to boolean\n",
    "df_off['k7'] = df_off['k7'].apply(lambda x: 1 if x ==True else 0)\n",
    "df_B['k7'] = df_B['k7'].apply(lambda x: 1 if x ==True else 0)\n",
    "#df_C['k7'] = df_C['k7'].apply(lambda x: 1 if x ==True else 0)\n",
    "df_off.head()"
   ]
  },
  {
   "cell_type": "code",
   "execution_count": null,
   "metadata": {},
   "outputs": [],
   "source": [
    "df_off.dtypes"
   ]
  },
  {
   "cell_type": "code",
   "execution_count": null,
   "metadata": {},
   "outputs": [],
   "source": [
    "#Changing workload Ids to string\n",
    "df_off['workload id']=df_off['workload id'].str.split('-')\n",
    "df_off['workload id']=df_off['workload id'].str.join(\"\")\n",
    "df_off['workload id']=df_off['workload id'].astype(int)"
   ]
  },
  {
   "cell_type": "code",
   "execution_count": null,
   "metadata": {},
   "outputs": [],
   "source": [
    "df_off.head()\n",
    "for i in df_off.dtypes:\n",
    "    if i!='float64'and i!='int32' and i!='int64':\n",
    "        print (i)"
   ]
  },
  {
   "cell_type": "code",
   "execution_count": null,
   "metadata": {},
   "outputs": [],
   "source": [
    "df_B['workload id']=df_B['workload id'].str.split('-')\n",
    "df_B['workload id']=df_B['workload id'].str.join(\"\")\n",
    "df_B['workload id']=df_B['workload id'].astype(int)\n",
    "df_C['workload id']=df_C['workload id'].str.split('-')\n",
    "df_C['workload id']=df_C['workload id'].str.join(\"\")\n",
    "df_C['workload id']=df_C['workload id'].astype(int)"
   ]
  },
  {
   "cell_type": "code",
   "execution_count": null,
   "metadata": {},
   "outputs": [],
   "source": [
    "df_off.to_pickle('Offline_workload_preprocessed.pkl')\n",
    "df_B.to_pickle('Online_workloadB_preprocessed.pkl')\n",
    "df_C.to_pickle('Online_workloadC_preprocessed.pkl')"
   ]
  },
  {
   "cell_type": "code",
   "execution_count": null,
   "metadata": {},
   "outputs": [],
   "source": [
    "# Creating only metrics files for factor analysis\n",
    "df_off.drop(knobs,axis=1,inplace=True)\n",
    "df_B.drop(knobs,axis=1,inplace=True)\n",
    "df_C.drop(knobs,axis=1,inplace=True)\n",
    "df_off.to_pickle('OnlyMetrics_OfflineWorkload.pkl')\n",
    "df_B.to_pickle('OnlyMetrics_OnlineWorkloadB.pkl')\n",
    "df_C.to_pickle('OnlyMetrics_OnlineWorkloadC.pkl')"
   ]
  },
  {
   "cell_type": "code",
   "execution_count": null,
   "metadata": {},
   "outputs": [],
   "source": [
    "df_off.to_csv('Offline_workload_preprocessed.csv',index=False,header=True)\n",
    "df_B.to_csv('Online_workloadB_preprocessed.csv',index=False,header=True)\n",
    "df_C.to_csv('Online_workloadC_preprocessed.csv',index=False,header=True)"
   ]
  },
  {
   "cell_type": "code",
   "execution_count": null,
   "metadata": {},
   "outputs": [],
   "source": [
    "df_off.drop(knobs,axis=1,inplace=True)\n",
    "df_off.to_csv('OnlyMetrics_OfflineWorkload.csv',index=False,header=True)\n",
    "df_B.drop(knobs,axis=1,inplace=True)\n",
    "df_C.drop(knobs,axis=1,inplace=True)\n",
    "df_B.to_csv('OnlyMetrics_OnlineWorkloadB.csv',index=False,header=True)\n",
    "df_C.to_csv('OnlyMetrics_OnlineWorkloadC.csv',index=False,header=True)"
   ]
  },
  {
   "cell_type": "code",
   "execution_count": null,
   "metadata": {},
   "outputs": [],
   "source": [
    "#Checking generated files\n",
    "import pandas as pd\n",
    "testdf=pd.read_csv(r'./Data/CSVFiles/Online_workloadC_preprocessed.csv')\n",
    "testdf.head()"
   ]
  }
 ],
 "metadata": {
  "kernelspec": {
   "display_name": "Python 3",
   "language": "python",
   "name": "python3"
  },
  "language_info": {
   "codemirror_mode": {
    "name": "ipython",
    "version": 3
   },
   "file_extension": ".py",
   "mimetype": "text/x-python",
   "name": "python",
   "nbconvert_exporter": "python",
   "pygments_lexer": "ipython3",
   "version": "3.6.10"
  }
 },
 "nbformat": 4,
 "nbformat_minor": 4
}
