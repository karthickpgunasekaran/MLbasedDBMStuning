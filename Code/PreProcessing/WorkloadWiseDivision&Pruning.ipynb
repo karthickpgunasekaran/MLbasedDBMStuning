{
 "cells": [
  {
   "cell_type": "code",
   "execution_count": null,
   "metadata": {},
   "outputs": [],
   "source": [
    "##Update the path and import libraries\n",
    "import os\n",
    "from os.path import isfile, join\n",
    "import pandas as pd\n",
    "path=r\"C:\\\\Umass spring 20\\\\645\\\\github\\\\MLbasedDBMStuning\\\\Data\\\\Workloads\\\\\"\n",
    "outpath=r\"C:\\\\Umass spring 20\\\\645\\\\github\\\\MLbasedDBMStuning\\\\Data\\\\Workloads\\\\offline\\\\\""
   ]
  },
  {
   "cell_type": "code",
   "execution_count": null,
   "metadata": {},
   "outputs": [],
   "source": [
    "## Functions to return file name in directory\n",
    "def loadWorkloadFileNames(folder):\n",
    "    onlyfiles = [f for f in os.listdir(folder) if isfile(join(folder, f))]\n",
    "    return onlyfiles"
   ]
  },
  {
   "cell_type": "code",
   "execution_count": null,
   "metadata": {},
   "outputs": [],
   "source": [
    "#Read file to be segregated by workload\n",
    "df_off=pd.read_csv('./Data/offline_workload.CSV')\n",
    "print(df_off.shape)"
   ]
  },
  {
   "cell_type": "code",
   "execution_count": null,
   "metadata": {},
   "outputs": [],
   "source": [
    "##Change knobs to boolean if not already\n",
    "df_off['k7'] = df_off['k7'].apply(lambda x: 1 if x ==True else 0)\n",
    "df_off['k7'] = df_off['k7'].apply(lambda x: 1 if x ==True else 0)"
   ]
  },
  {
   "cell_type": "code",
   "execution_count": null,
   "metadata": {},
   "outputs": [],
   "source": [
    "## Convert workload Id to integer if not already\n",
    "df_off['workload id']=df_off['workload id'].str.split('-')\n",
    "df_off['workload id']=df_off['workload id'].str.join(\"\")\n",
    "df_off['workload id']=df_off['workload id'].astype(int)\n",
    "\n",
    "workloads=list(df_off['workload id'].unique())\n"
   ]
  },
  {
   "cell_type": "code",
   "execution_count": null,
   "metadata": {
    "scrolled": false
   },
   "outputs": [],
   "source": [
    "## Segregating files by workloads\n",
    "for i in workloads:\n",
    "    temp=pd.DataFrame(columns=df_off.columns)\n",
    "    for ind,r in df_off.iterrows():\n",
    "        if int(r['workload id'])==i:\n",
    "            #print (r.T)\n",
    "            temp=temp.append(pd.Series(r[df_off.columns],index=df_off.columns ), ignore_index=True)\n",
    "            #print(temp.shape)\n",
    "            \n",
    "    temp.to_pickle(outpath+ '\\\\workload_'+ str(i)+'.pkl')\n",
    "    "
   ]
  },
  {
   "cell_type": "code",
   "execution_count": null,
   "metadata": {},
   "outputs": [],
   "source": [
    "#Pruning the workloads by keeping only pruned metrics\n",
    "pruned=['latency','driver.BlockManager.memory.onHeapMemUsed_MB.avg',\n",
    "       'worker_1.Disk_transfers_per_second.dm-0',\n",
    "       'driver.BlockManager.memory.maxMem_MB.avg',\n",
    "       'driver.jvm.pools.Code-Cache.committed.avg_period',\n",
    "       'driver.jvm.pools.Code-Cache.committed.avg_increase',\n",
    "       'worker_1.Paging_and_Virtual_Memory.pgpgout',\n",
    "       'executor.jvm.pools.PS-Old-Gen.committed.avg',\n",
    "       'worker_1.Disk_Read_KB/s.sda',\n",
    "       'driver.LiveListenerBus.queue.executorManagement.size.avg',\n",
    "       'worker_2.Paging_and_Virtual_Memory.pgscan_direct_normal']\n",
    "df=pd.DataFrame()\n",
    "files=loadWorkloadFileNames(outpath)\n",
    "for filename in files:\n",
    "    if filename.endswith(\".pkl\"):\n",
    "        \n",
    "        df=pd.read_pickle(outpath+filename)\n",
    "        #print(df.shape)\n",
    "        knobs=list(df.columns[0:13])\n",
    "        \n",
    "        for i in df.columns:\n",
    "            if i not in pruned and i not in knobs:\n",
    "                df.drop(i,axis=1,inplace=True)\n",
    "        print(df.shape)\n",
    "        df.to_pickle(outpath++filename)\n",
    "        df.to_csv(outpath+filename+'.csv',header=True,index=False)\n"
   ]
  }
 ],
 "metadata": {
  "kernelspec": {
   "display_name": "Python 3",
   "language": "python",
   "name": "python3"
  },
  "language_info": {
   "codemirror_mode": {
    "name": "ipython",
    "version": 3
   },
   "file_extension": ".py",
   "mimetype": "text/x-python",
   "name": "python",
   "nbconvert_exporter": "python",
   "pygments_lexer": "ipython3",
   "version": "3.6.10"
  }
 },
 "nbformat": 4,
 "nbformat_minor": 4
}
