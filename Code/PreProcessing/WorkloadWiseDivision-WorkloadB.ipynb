{
 "cells": [
  {
   "cell_type": "code",
   "execution_count": null,
   "metadata": {},
   "outputs": [],
   "source": [
    "import os\n",
    "from os.path import isfile, join\n",
    "import pandas as pd\n",
    "outpath=r\"C:\\\\Umass spring 20\\\\645\\\\github\\\\MLbasedDBMStuning\\\\Data\\\\Workload\\\\WorkloadB\\\\\""
   ]
  },
  {
   "cell_type": "code",
   "execution_count": null,
   "metadata": {},
   "outputs": [],
   "source": [
    "## Functions to return file name in directory\n",
    "def loadWorkloadFileNames(folder):\n",
    "    onlyfiles = [f for f in os.listdir(folder) if isfile(join(folder, f))]\n",
    "    return onlyfiles"
   ]
  },
  {
   "cell_type": "code",
   "execution_count": null,
   "metadata": {},
   "outputs": [],
   "source": [
    "##Read workload\n",
    "df_B=pd.read_csv('./Data/online_workload_B.csv')"
   ]
  },
  {
   "cell_type": "code",
   "execution_count": null,
   "metadata": {},
   "outputs": [],
   "source": [
    "## Convert boolean knobs and workload id to integer if not already done\n",
    "df_B['k7'] = df_B['k7'].apply(lambda x: 1 if x ==True else 0)\n",
    "df_B['k7'] = df_B['k7'].apply(lambda x: 1 if x ==True else 0)\n",
    "df_B['workload id']=df_B['workload id'].str.split('-')\n",
    "df_B['workload id']=df_B['workload id'].str.join(\"\")\n",
    "df_B['workload id']=df_B['workload id'].astype(int)\n"
   ]
  },
  {
   "cell_type": "code",
   "execution_count": null,
   "metadata": {},
   "outputs": [],
   "source": [
    "#Finding Unique Workloads\n",
    "workloads=list(df_B['workload id'].unique())"
   ]
  },
  {
   "cell_type": "code",
   "execution_count": null,
   "metadata": {},
   "outputs": [],
   "source": [
    "## Segregating by workload Ids\n",
    "for i in workloads:\n",
    "    temp=pd.DataFrame(columns=df_B.columns)\n",
    "    for ind,r in df_B.iterrows():\n",
    "        if int(r['workload id'])==i:\n",
    "            temp=temp.append(pd.Series(r[df_B.columns],index=df_B.columns ), ignore_index=True)\n",
    "            \n",
    "            #print(temp.shape)\n",
    "    temp.to_pickle(outpath' + '\\\\workload_'+ str(i)+'.pkl')\n",
    "    "
   ]
  },
  {
   "cell_type": "code",
   "execution_count": null,
   "metadata": {
    "scrolled": true
   },
   "outputs": [],
   "source": [
    "#Pruning metrics by dropping all other metrics\n",
    "pruned=['latency','driver.BlockManager.memory.onHeapMemUsed_MB.avg',\n",
    "       'worker_1.Disk_transfers_per_second.dm-0',\n",
    "       'driver.BlockManager.memory.maxMem_MB.avg',\n",
    "       'driver.jvm.pools.Code-Cache.committed.avg_period',\n",
    "       'driver.jvm.pools.Code-Cache.committed.avg_increase',\n",
    "       'worker_1.Paging_and_Virtual_Memory.pgpgout',\n",
    "       'executor.jvm.pools.PS-Old-Gen.committed.avg',\n",
    "       'worker_1.Disk_Read_KB/s.sda',\n",
    "       'driver.LiveListenerBus.queue.executorManagement.size.avg',\n",
    "       'worker_2.Paging_and_Virtual_Memory.pgscan_direct_normal']\n",
    "\n",
    "df=pd.DataFrame()\n",
    "files=loadWorkloadFileNames(outpath)\n",
    "for filename in files:\n",
    "    if filename.endswith(\".pkl\"):\n",
    "        df=pd.read_pickle(outpath+filename)\n",
    "        \n",
    "        knobs=list(df.columns[0:13])\n",
    "        for i in df.columns:\n",
    "            if i not in pruned and i not in knobs:\n",
    "                df.drop(i,axis=1,inplace=True)\n",
    "#         print(df.shape)\n",
    "#         print(df.latency)\n",
    "        df.to_pickle(outpath+filename)\n",
    "        df.to_csv(outpath++filename+'.csv',header=True,index=False)\n",
    "print(df.columns)"
   ]
  },
  {
   "cell_type": "code",
   "execution_count": null,
   "metadata": {
    "scrolled": true
   },
   "outputs": [],
   "source": [
    "#Dividing the file in WorkloadB_test file and WorkloadB files\n",
    "files=loadWorkloadFileNames(outpath+'\\\\WorkloadB\\\\')\n",
    "final=pd.DataFrame()\n",
    "for filename in files:\n",
    "    if filename.endswith(\".pkl\"):\n",
    "        df=pd.read_pickle(outpath'+filename)\n",
    "        temp1=df.iloc[0:5]\n",
    "        print(temp1.shape)\n",
    "        temp1.to_pickle(outpath+\"5points\"+filename)\n",
    "        temp1.to_csv(outpath+\"5points\"+filename+\".csv\",header=True,index=False)\n",
    "        temp2=df.iloc[5:]\n",
    "        final=pd.concat([final,temp2])\n",
    "print(final.latency)\n",
    "print(final.shape)\n",
    "\n",
    "final.to_pickle(outpath+'Test_workloadB.pkl')\n",
    "final.to_csv(outpath+'Test_workloadB.csv',header=True,index=False)\n",
    "\n",
    "        "
   ]
  }
 ],
 "metadata": {
  "kernelspec": {
   "display_name": "Python 3",
   "language": "python",
   "name": "python3"
  },
  "language_info": {
   "codemirror_mode": {
    "name": "ipython",
    "version": 3
   },
   "file_extension": ".py",
   "mimetype": "text/x-python",
   "name": "python",
   "nbconvert_exporter": "python",
   "pygments_lexer": "ipython3",
   "version": "3.6.10"
  }
 },
 "nbformat": 4,
 "nbformat_minor": 4
}
