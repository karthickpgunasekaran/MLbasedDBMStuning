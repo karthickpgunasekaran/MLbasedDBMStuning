{
 "cells": [
  {
   "cell_type": "code",
   "execution_count": null,
   "metadata": {},
   "outputs": [],
   "source": [
    "import os\n",
    "from os.path import isfile, join\n",
    "import pandas as pd\n",
    "path=r\"C:\\\\Umass spring 20\\\\645\\\\github\\\\MLbasedDBMStuning\\\\Data\\\\WorkloadFiles\\\\\"\n",
    "outpath=r\"C:\\\\Umass spring 20\\\\645\\\\github\\\\MLbasedDBMStuning\\\\Data\\\\WorkloadFiles\\\\Pruned_unscaled\\\\\""
   ]
  },
  {
   "cell_type": "code",
   "execution_count": null,
   "metadata": {},
   "outputs": [],
   "source": [
    "def loadWorkloadFileNames(folder):\n",
    "    onlyfiles = [f for f in os.listdir(folder) if isfile(join(folder, f))]\n",
    "    return onlyfiles"
   ]
  },
  {
   "cell_type": "code",
   "execution_count": null,
   "metadata": {},
   "outputs": [],
   "source": [
    "#df_off=pd.read_csv('./Data/Offline_workload.csv')\n",
    "df_C=pd.read_csv('./Data/Online_workload_C.csv')"
   ]
  },
  {
   "cell_type": "code",
   "execution_count": null,
   "metadata": {},
   "outputs": [],
   "source": [
    "#Concatenated Dataframe containing all workloads\n",
    "#df=pd.concat([df_off,df_B])\n"
   ]
  },
  {
   "cell_type": "code",
   "execution_count": null,
   "metadata": {},
   "outputs": [],
   "source": [
    "drop=[]\n",
    "for i in df_C.columns:\n",
    "    if len(df_C[i].unique())==1:\n",
    "        drop.append(i)\n",
    "for i in drop:\n",
    "    df_C.drop(i,axis=1,inplace=True)\n",
    "    \n",
    "    #df_C.drop(i,axis=1,inplace=True)\n",
    "df_C['k7'] = df_C['k7'].apply(lambda x: 1 if x ==True else 0)\n",
    "df_C['k7'] = df_C['k7'].apply(lambda x: 1 if x ==True else 0)\n",
    "#df_C['k7'] = df_C['k7'].apply(lambda x: 1 if x ==True else 0)\n",
    "df_C.head()\n",
    "df_C['workload id']=df_C['workload id'].str.split('-')\n",
    "df_C['workload id']=df_C['workload id'].str.join(\"\")\n",
    "df_C['workload id']=df_C['workload id'].astype(int)"
   ]
  },
  {
   "cell_type": "code",
   "execution_count": null,
   "metadata": {},
   "outputs": [],
   "source": [
    "workloads=list(df_C['workload id'].unique())"
   ]
  },
  {
   "cell_type": "code",
   "execution_count": null,
   "metadata": {},
   "outputs": [],
   "source": [
    "for i in workloads:\n",
    "    temp=pd.DataFrame(columns=df_C.columns)\n",
    "    for ind,r in df_C.iterrows():\n",
    "       # print(i,r['workload id'])\n",
    "        if int(r['workload id'])==i:\n",
    "            #print (r.T)\n",
    "            temp=temp.append(pd.Series(r[df_C.columns],index=df_C.columns ), ignore_index=True)\n",
    "    temp.to_pickle(outpath+'\\\\WorkloadC\\\\' + '\\\\workload_'+ str(i)+'.pkl')\n",
    "    temp.to_csv(outpath+'\\\\WorkloadC\\\\' + '\\\\workload_'+ str(i)+'.csv',header=True,index=False)"
   ]
  },
  {
   "cell_type": "code",
   "execution_count": null,
   "metadata": {},
   "outputs": [],
   "source": [
    "#Pruning the workloads\n",
    "pruned=['latency','driver.jvm.non-heap.used.avg','mimic_cpu_util','driver.BlockManager.disk.diskSpaceUsed_MB.avg']\n",
    "df=pd.DataFrame()\n",
    "files=loadWorkloadFileNames(outpath+'\\\\WorkloadC\\\\')\n",
    "for filename in files:\n",
    "    if filename.endswith(\".pkl\"):\n",
    "        df=pd.read_pickle(path+filename)\n",
    "        \n",
    "        knobs=list(df.columns[0:13])\n",
    "        for i in df.columns:\n",
    "            if i not in pruned and i not in knobs:\n",
    "                df.drop(i,axis=1,inplace=True)\n",
    "        print(df.shape)\n",
    "        df.to_pickle(outpath+'\\\\WorkloadC\\\\'+filename)\n",
    "        #df.to_csv(outpath+'\\\\offline\\\\'+filename+'.csv',header=True,index=False)\n",
    "print(df.head())"
   ]
  },
  {
   "cell_type": "code",
   "execution_count": null,
   "metadata": {},
   "outputs": [],
   "source": [
    "df=pd.read_csv(r'./Data/Online_workload_C.csv')"
   ]
  },
  {
   "cell_type": "code",
   "execution_count": null,
   "metadata": {},
   "outputs": [],
   "source": [
    "drop=[]\n",
    "for i in df.columns:\n",
    "    if len(df[i].unique())==1:\n",
    "        drop.append(i)\n",
    "for i in drop:\n",
    "    df.drop(i,axis=1,inplace=True)\n",
    "    \n",
    "    #df_C.drop(i,axis=1,inplace=True)\n",
    "df['k7'] = df['k7'].apply(lambda x: 1 if x ==True else 0)\n",
    "df['k7'] = df['k7'].apply(lambda x: 1 if x ==True else 0)\n",
    "#df_C['k7'] = df_C['k7'].apply(lambda x: 1 if x ==True else 0)\n",
    "df.head()\n",
    "df['workload id']=df['workload id'].str.split('-')\n",
    "df['workload id']=df['workload id'].str.join(\"\")\n",
    "df['workload id']=df['workload id'].astype(int)\n"
   ]
  },
  {
   "cell_type": "code",
   "execution_count": null,
   "metadata": {},
   "outputs": [],
   "source": [
    "df.head()\n"
   ]
  },
  {
   "cell_type": "code",
   "execution_count": null,
   "metadata": {},
   "outputs": [],
   "source": [
    "pruned=['latency','driver.jvm.PS-MarkSweep.count.avg_increase','driver.jvm.non-heap.usage.avg','executor.deserializeTime.avg','worker_1.Disk_Read_KB/s.sdd','worker_1.Paging_and_Virtual_Memory.pgscan_kswapd_normal','worker_2.Disk_Read_KB/s.sdh','worker_2.Disk_Write_KB/s.sdi','worker_2.Paging_and_Virtual_Memory.pginodesteal','worker_2.Paging_and_Virtual_Memory.pgscan_kswapd_normal']\n",
    "knobs=list(df.columns[0:13])\n",
    "for i in df.columns:\n",
    "    if i not in pruned and i not in knobs:\n",
    "        df.drop(i,axis=1,inplace=True)\n",
    "        \n"
   ]
  },
  {
   "cell_type": "code",
   "execution_count": null,
   "metadata": {},
   "outputs": [],
   "source": [
    "df.to_pickle('Target.pkl')\n",
    "df.to_csv('Target.csv',index=False,header=True)"
   ]
  },
  {
   "cell_type": "code",
   "execution_count": null,
   "metadata": {},
   "outputs": [],
   "source": [
    "len({100.0: 180454518.98043296, 101.0: 180454518.98040882, 102.0: 180454518.98040885, 11.0: 180454518.9804087, 110.0: 180454518.980409, 111.0: 180454518.98040947, 112.0: 180454518.980432, 12.0: 180454518.9804092, 120.0: 180454518.98040915, 123.0: 180454518.98043263, 125.0: 180454518.9804085, 126.0: 180454518.9804086, 127.0: 180454518.9804087, 128.0: 180454518.98043248, 13.0: 180454518.98040918, 130.0: 180454518.98040873, 133.0: 180454518.9804087, 134.0: 180454518.98043332, 135.0: 180454518.98040947, 136.0: 180454518.98043275, 137.0: 180454518.9804088, 14.0: 180454518.9804087, 140.0: 180454518.98043305, 141.0: 180454518.9804089, 142.0: 180454518.98040858, 144.0: 180454518.98040876, 145.0: 180454518.98043293, 147.0: 180454518.9804097, 15.0: 180454518.9804297, 150.0: 180454518.9804091, 151.0: 180454518.98040858, 152.0: 180454518.9804095, 153.0: 180454518.98043215, 154.0: 180454518.98043385, 160.0: 180454518.98040876, 162.0: 180454518.98040906, 163.0: 180454518.980434, 164.0: 180454518.98043257, 168.0: 180454518.98040855, 17.0: 180454518.98042992, 170.0: 180454518.98040864, 174.0: 180454518.98043317, 175.0: 180454518.98043323, 176.0: 180454518.98040876, 177.0: 180454518.98040876, 181.0: 180454518.98043373, 185.0: 180454518.9804096, 186.0: 180454518.98040918, 187.0: 180454518.9804098, 188.0: 180454518.98043305, 192.0: 180454518.98040983, 194.0: 180454518.9804329, 195.0: 180454518.9804084, 196.0: 180454518.98040873, 197.0: 180454518.98043385, 20.0: 180454518.98042697, 201.0: 180454518.98040876, 204.0: 180454518.98043364, 206.0: 180454518.9804337, 207.0: 180454518.98040882, 208.0: 180454518.98040906, 21.0: 180454518.98040864, 211.0: 180454518.98043367, 212.0: 180454518.98040935, 213.0: 180454518.98040876, 215.0: 180454518.98040923, 217.0: 180454518.98043343, 22.0: 180454518.98042735, 220.0: 180454518.9804095, 222.0: 180454518.9804331, 226.0: 180454518.9804092, 227.0: 180454518.9804331, 228.0: 180454518.98040935, 23.0: 180454518.98040858, 230.0: 180454518.98043323, 231.0: 180454518.9804088, 234.0: 180454518.98043317, 235.0: 180454518.98040855, 237.0: 180454518.98040876, 243.0: 180454518.98043385, 244.0: 180454518.98040935, 245.0: 180454518.98043287, 247.0: 180454518.98040995, 248.0: 180454518.98040935, 251.0: 180454518.9804353, 254.0: 180454518.98040932, 256.0: 180454518.9804093, 257.0: 180454518.9804345, 258.0: 180454518.9804092, 26.0: 180454518.98040858, 260.0: 180454518.98040894, 262.0: 180454518.98040906, 263.0: 180454518.98040947, 265.0: 180454518.9804343, 268.0: 180454518.9804348, 271.0: 180454518.98040897, 273.0: 180454518.98040876, 276.0: 180454518.98040888, 277.0: 180454518.98043284, 278.0: 180454518.98043248, 28.0: 180454518.98040935, 280.0: 180454518.98043513, 281.0: 180454518.98040888, 282.0: 180454518.98040974, 283.0: 180454518.98043612, 286.0: 180454518.98040947, 290.0: 180454518.98040876, 291.0: 180454518.98043257, 292.0: 180454518.980409, 293.0: 180454518.9804337, 294.0: 180454518.98040885, 30.0: 180454518.98042932})"
   ]
  },
  {
   "cell_type": "code",
   "execution_count": null,
   "metadata": {},
   "outputs": [],
   "source": []
  }
 ],
 "metadata": {
  "kernelspec": {
   "display_name": "Python 3",
   "language": "python",
   "name": "python3"
  },
  "language_info": {
   "codemirror_mode": {
    "name": "ipython",
    "version": 3
   },
   "file_extension": ".py",
   "mimetype": "text/x-python",
   "name": "python",
   "nbconvert_exporter": "python",
   "pygments_lexer": "ipython3",
   "version": "3.6.10"
  }
 },
 "nbformat": 4,
 "nbformat_minor": 4
}
