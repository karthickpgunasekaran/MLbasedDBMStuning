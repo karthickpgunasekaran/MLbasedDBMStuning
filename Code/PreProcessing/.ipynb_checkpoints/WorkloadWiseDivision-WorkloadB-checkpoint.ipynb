{
 "cells": [
  {
   "cell_type": "code",
   "execution_count": null,
   "metadata": {},
   "outputs": [],
   "source": [
    "import os\n",
    "from os.path import isfile, join\n",
    "import pandas as pd\n",
    "path=r\"C:\\\\Umass spring 20\\\\645\\\\github\\\\MLbasedDBMStuning\\\\Data\\\\WorkloadFiles\\\\\"\n",
    "outpath=r\"C:\\\\Umass spring 20\\\\645\\\\github\\\\MLbasedDBMStuning\\\\Data\\\\WorkloadFiles\\\\Pruned_unscaled\\\\\""
   ]
  },
  {
   "cell_type": "code",
   "execution_count": null,
   "metadata": {},
   "outputs": [],
   "source": [
    "def loadWorkloadFileNames(folder):\n",
    "    onlyfiles = [f for f in os.listdir(folder) if isfile(join(folder, f))]\n",
    "    return onlyfiles"
   ]
  },
  {
   "cell_type": "code",
   "execution_count": null,
   "metadata": {},
   "outputs": [],
   "source": [
    "\n",
    "df_B=pd.read_csv('./Data/Online_workload_B.csv')"
   ]
  },
  {
   "cell_type": "code",
   "execution_count": null,
   "metadata": {},
   "outputs": [],
   "source": [
    "#Concatenated Dataframe containing all workloads\n",
    "#df=pd.concat([df_off,df_B])\n"
   ]
  },
  {
   "cell_type": "code",
   "execution_count": null,
   "metadata": {},
   "outputs": [],
   "source": [
    "drop=[]\n",
    "for i in df_B.columns:\n",
    "    if len(df_B[i].unique())==1:\n",
    "        drop.append(i)\n",
    "for i in drop:\n",
    "    df_B.drop(i,axis=1,inplace=True)\n",
    "    \n",
    "    #df_C.drop(i,axis=1,inplace=True)\n",
    "df_B['k7'] = df_B['k7'].apply(lambda x: 1 if x ==True else 0)\n",
    "df_B['k7'] = df_B['k7'].apply(lambda x: 1 if x ==True else 0)\n",
    "#df_C['k7'] = df_C['k7'].apply(lambda x: 1 if x ==True else 0)\n",
    "df_B.head()\n",
    "df_B['workload id']=df_B['workload id'].str.split('-')\n",
    "df_B['workload id']=df_B['workload id'].str.join(\"\")\n",
    "df_B['workload id']=df_B['workload id'].astype(int)"
   ]
  },
  {
   "cell_type": "code",
   "execution_count": null,
   "metadata": {},
   "outputs": [],
   "source": [
    "workloads=list(df_B['workload id'].unique())"
   ]
  },
  {
   "cell_type": "code",
   "execution_count": null,
   "metadata": {},
   "outputs": [],
   "source": [
    "for i in workloads:\n",
    "    temp=pd.DataFrame(columns=df_C.columns)\n",
    "    for ind,r in df_B.iterrows():\n",
    "        if int(r['workload id'])==i:\n",
    "            temp=temp.append(pd.Series(r[df_B.columns],index=df_B.columns ), ignore_index=True)\n",
    "    temp.to_pickle(outpath+'\\\\WorkloadB\\\\' + '\\\\workload_'+ str(i)+'.pkl')\n",
    "    temp.to_csv(outpath+'\\\\WorkloadB\\\\' + '\\\\workload_'+ str(i)+'.csv',header=True,index=False)"
   ]
  },
  {
   "cell_type": "code",
   "execution_count": null,
   "metadata": {},
   "outputs": [],
   "source": [
    "#Pruning the workloads\n",
    "pruned=['latency','driver.jvm.non-heap.used.avg','mimic_cpu_util','driver.BlockManager.disk.diskSpaceUsed_MB.avg']\n",
    "df=pd.DataFrame()\n",
    "files=loadWorkloadFileNames(outpath+'\\\\WorkloadB\\\\')\n",
    "for filename in files:\n",
    "    if filename.endswith(\".pkl\"):\n",
    "        df=pd.read_pickle(path+filename)\n",
    "        \n",
    "        knobs=list(df.columns[0:13])\n",
    "        for i in df.columns:\n",
    "            if i not in pruned and i not in knobs:\n",
    "                df.drop(i,axis=1,inplace=True)\n",
    "        print(df.shape)\n",
    "        df.to_pickle(outpath+'\\\\WorkloadB\\\\'+filename)\n",
    "        #df.to_csv(outpath+'\\\\offline\\\\'+filename+'.csv',header=True,index=False)\n",
    "print(df.columns)"
   ]
  },
  {
   "cell_type": "code",
   "execution_count": null,
   "metadata": {
    "scrolled": false
   },
   "outputs": [],
   "source": [
    "files=loadWorkloadFileNames(outpath+'\\\\WorkloadB\\\\')\n",
    "for filename in files:\n",
    "    if filename.endswith(\".pkl\"):\n",
    "        df=pd.read_pickle(outpath+'\\\\WorkloadB\\\\'+filename)\n",
    "        temp1=df.iloc[0:5]\n",
    "        temp2=df.iloc[5:]\n",
    "        print(temp1.shape,temp2.shape)\n",
    "        temp1.to_pickle(outpath+'\\\\WorkloadB\\\\divided\\\\5_points'+filename)\n",
    "        temp2.to_pickle(outpath+'\\\\WorkloadB\\\\divided\\\\1_points'+filename)\n",
    "        "
   ]
  },
  {
   "cell_type": "code",
   "execution_count": null,
   "metadata": {},
   "outputs": [],
   "source": []
  },
  {
   "cell_type": "code",
   "execution_count": null,
   "metadata": {},
   "outputs": [],
   "source": []
  },
  {
   "cell_type": "code",
   "execution_count": null,
   "metadata": {},
   "outputs": [],
   "source": []
  },
  {
   "cell_type": "code",
   "execution_count": null,
   "metadata": {},
   "outputs": [],
   "source": []
  },
  {
   "cell_type": "code",
   "execution_count": null,
   "metadata": {},
   "outputs": [],
   "source": []
  },
  {
   "cell_type": "code",
   "execution_count": null,
   "metadata": {},
   "outputs": [],
   "source": []
  }
 ],
 "metadata": {
  "kernelspec": {
   "display_name": "Python 3",
   "language": "python",
   "name": "python3"
  },
  "language_info": {
   "codemirror_mode": {
    "name": "ipython",
    "version": 3
   },
   "file_extension": ".py",
   "mimetype": "text/x-python",
   "name": "python",
   "nbconvert_exporter": "python",
   "pygments_lexer": "ipython3",
   "version": "3.6.10"
  }
 },
 "nbformat": 4,
 "nbformat_minor": 4
}
